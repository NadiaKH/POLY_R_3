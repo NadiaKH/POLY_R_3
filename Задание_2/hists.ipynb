{
  "nbformat": 4,
  "nbformat_minor": 0,
  "metadata": {
    "colab": {
      "name": "hists.ipynb",
      "provenance": [],
      "collapsed_sections": []
    },
    "kernelspec": {
      "name": "ir",
      "display_name": "R"
    },
    "language_info": {
      "name": "R"
    }
  },
  "cells": [
    {
      "cell_type": "markdown",
      "source": [
        "**Костина Н**\n",
        "=============\n",
        "\n",
        "Файлы data2.csv, data1.txt Объедините data.frames по идентификаторам сортов. \n",
        "Исключите те сорта, для которых есть пропущенные значения. \n",
        "Выбрать одну количественную и две качественные переменные . \n",
        "Разбить значения количественной переменной на группы в соответствии \n",
        "со значениями одной из качественных переменных. Нарисовать график, \n",
        "на котором отображены плотности распределений и гистограммы для \n",
        "получившихся групп, обозначить разные группы разными цветами. \n"
      ],
      "metadata": {
        "id": "ssLfLQm6K-Tg"
      }
    },
    {
      "cell_type": "code",
      "execution_count": null,
      "metadata": {
        "id": "40EIHOQZK5eW"
      },
      "outputs": [],
      "source": [
        ""
      ]
    },
    {
      "cell_type": "code",
      "source": [
        "library(data.table)\n",
        "library(magrittr)\n",
        "library(dplyr)\n",
        "library(tibble)\n",
        "library(ggplot2)"
      ],
      "metadata": {
        "id": "1qo-SJHbLY6G"
      },
      "execution_count": 52,
      "outputs": []
    },
    {
      "cell_type": "markdown",
      "source": [
        "Читаем данные"
      ],
      "metadata": {
        "id": "I3QQ5FtwK9Sy"
      }
    },
    {
      "cell_type": "code",
      "source": [
        "data2 <- read.csv(file = \"data2.csv\", sep = \",\", row.names = 1, header= TRUE)\n",
        "data1 <- read.csv(file =\"data1.txt\", sep = \" \", row.names = 1, header = TRUE)"
      ],
      "metadata": {
        "id": "p1XLSjqMLb1O"
      },
      "execution_count": 4,
      "outputs": []
    },
    {
      "cell_type": "code",
      "source": [
        "data2"
      ],
      "metadata": {
        "colab": {
          "base_uri": "https://localhost:8080/",
          "height": 221
        },
        "id": "PkqmrevGLodQ",
        "outputId": "2daced43-f99e-4afb-e2a7-6df452301d48"
      },
      "execution_count": 5,
      "outputs": [
        {
          "output_type": "display_data",
          "data": {
            "text/plain": [
              "            V_0 V_1 V_2 V_3 V_4 V_5 V_6 V_7 V_8 V_9 ⋯ V_91 V_92 V_93 V_94 V_95\n",
              "GrowthType    0   0   0   2   2   0   0   0   0   2 ⋯   2    1    1    1   1  \n",
              "Polegaemost   1   1   0   0   0   0   1   1   1   0 ⋯   0    0    0    0   0  \n",
              "GenmBMatur  123 143 137 108 132 100 128 131 143 133 ⋯ 106  106  106  104  98  \n",
              "MaturType     5   6   5   3   5   3   5   5   6   5 ⋯   3    3    3    3   2  \n",
              "            V_96 V_97 V_98 V_99 V_100\n",
              "GrowthType    2    1   1     2   1   \n",
              "Polegaemost   0    0   0     0   0   \n",
              "GenmBMatur  106  104  86   110  95   \n",
              "MaturType     3    3   1     3   2   "
            ],
            "text/latex": "A data.frame: 4 × 99\n\\begin{tabular}{r|lllllllllllllllllllll}\n  & V\\_0 & V\\_1 & V\\_2 & V\\_3 & V\\_4 & V\\_5 & V\\_6 & V\\_7 & V\\_8 & V\\_9 & ⋯ & V\\_91 & V\\_92 & V\\_93 & V\\_94 & V\\_95 & V\\_96 & V\\_97 & V\\_98 & V\\_99 & V\\_100\\\\\n  & <int> & <int> & <int> & <int> & <int> & <int> & <int> & <int> & <int> & <int> & ⋯ & <int> & <int> & <int> & <int> & <int> & <int> & <int> & <int> & <int> & <int>\\\\\n\\hline\n\tGrowthType &   0 &   0 &   0 &   2 &   2 &   0 &   0 &   0 &   0 &   2 & ⋯ &   2 &   1 &   1 &   1 &  1 &   2 &   1 &  1 &   2 &  1\\\\\n\tPolegaemost &   1 &   1 &   0 &   0 &   0 &   0 &   1 &   1 &   1 &   0 & ⋯ &   0 &   0 &   0 &   0 &  0 &   0 &   0 &  0 &   0 &  0\\\\\n\tGenmBMatur & 123 & 143 & 137 & 108 & 132 & 100 & 128 & 131 & 143 & 133 & ⋯ & 106 & 106 & 106 & 104 & 98 & 106 & 104 & 86 & 110 & 95\\\\\n\tMaturType &   5 &   6 &   5 &   3 &   5 &   3 &   5 &   5 &   6 &   5 & ⋯ &   3 &   3 &   3 &   3 &  2 &   3 &   3 &  1 &   3 &  2\\\\\n\\end{tabular}\n",
            "text/markdown": "\nA data.frame: 4 × 99\n\n| <!--/--> | V_0 &lt;int&gt; | V_1 &lt;int&gt; | V_2 &lt;int&gt; | V_3 &lt;int&gt; | V_4 &lt;int&gt; | V_5 &lt;int&gt; | V_6 &lt;int&gt; | V_7 &lt;int&gt; | V_8 &lt;int&gt; | V_9 &lt;int&gt; | ⋯ ⋯ | V_91 &lt;int&gt; | V_92 &lt;int&gt; | V_93 &lt;int&gt; | V_94 &lt;int&gt; | V_95 &lt;int&gt; | V_96 &lt;int&gt; | V_97 &lt;int&gt; | V_98 &lt;int&gt; | V_99 &lt;int&gt; | V_100 &lt;int&gt; |\n|---|---|---|---|---|---|---|---|---|---|---|---|---|---|---|---|---|---|---|---|---|---|\n| GrowthType |   0 |   0 |   0 |   2 |   2 |   0 |   0 |   0 |   0 |   2 | ⋯ |   2 |   1 |   1 |   1 |  1 |   2 |   1 |  1 |   2 |  1 |\n| Polegaemost |   1 |   1 |   0 |   0 |   0 |   0 |   1 |   1 |   1 |   0 | ⋯ |   0 |   0 |   0 |   0 |  0 |   0 |   0 |  0 |   0 |  0 |\n| GenmBMatur | 123 | 143 | 137 | 108 | 132 | 100 | 128 | 131 | 143 | 133 | ⋯ | 106 | 106 | 106 | 104 | 98 | 106 | 104 | 86 | 110 | 95 |\n| MaturType |   5 |   6 |   5 |   3 |   5 |   3 |   5 |   5 |   6 |   5 | ⋯ |   3 |   3 |   3 |   3 |  2 |   3 |   3 |  1 |   3 |  2 |\n\n",
            "text/html": [
              "<table class=\"dataframe\">\n",
              "<caption>A data.frame: 4 × 99</caption>\n",
              "<thead>\n",
              "\t<tr><th></th><th scope=col>V_0</th><th scope=col>V_1</th><th scope=col>V_2</th><th scope=col>V_3</th><th scope=col>V_4</th><th scope=col>V_5</th><th scope=col>V_6</th><th scope=col>V_7</th><th scope=col>V_8</th><th scope=col>V_9</th><th scope=col>⋯</th><th scope=col>V_91</th><th scope=col>V_92</th><th scope=col>V_93</th><th scope=col>V_94</th><th scope=col>V_95</th><th scope=col>V_96</th><th scope=col>V_97</th><th scope=col>V_98</th><th scope=col>V_99</th><th scope=col>V_100</th></tr>\n",
              "\t<tr><th></th><th scope=col>&lt;int&gt;</th><th scope=col>&lt;int&gt;</th><th scope=col>&lt;int&gt;</th><th scope=col>&lt;int&gt;</th><th scope=col>&lt;int&gt;</th><th scope=col>&lt;int&gt;</th><th scope=col>&lt;int&gt;</th><th scope=col>&lt;int&gt;</th><th scope=col>&lt;int&gt;</th><th scope=col>&lt;int&gt;</th><th scope=col>⋯</th><th scope=col>&lt;int&gt;</th><th scope=col>&lt;int&gt;</th><th scope=col>&lt;int&gt;</th><th scope=col>&lt;int&gt;</th><th scope=col>&lt;int&gt;</th><th scope=col>&lt;int&gt;</th><th scope=col>&lt;int&gt;</th><th scope=col>&lt;int&gt;</th><th scope=col>&lt;int&gt;</th><th scope=col>&lt;int&gt;</th></tr>\n",
              "</thead>\n",
              "<tbody>\n",
              "\t<tr><th scope=row>GrowthType</th><td>  0</td><td>  0</td><td>  0</td><td>  2</td><td>  2</td><td>  0</td><td>  0</td><td>  0</td><td>  0</td><td>  2</td><td>⋯</td><td>  2</td><td>  1</td><td>  1</td><td>  1</td><td> 1</td><td>  2</td><td>  1</td><td> 1</td><td>  2</td><td> 1</td></tr>\n",
              "\t<tr><th scope=row>Polegaemost</th><td>  1</td><td>  1</td><td>  0</td><td>  0</td><td>  0</td><td>  0</td><td>  1</td><td>  1</td><td>  1</td><td>  0</td><td>⋯</td><td>  0</td><td>  0</td><td>  0</td><td>  0</td><td> 0</td><td>  0</td><td>  0</td><td> 0</td><td>  0</td><td> 0</td></tr>\n",
              "\t<tr><th scope=row>GenmBMatur</th><td>123</td><td>143</td><td>137</td><td>108</td><td>132</td><td>100</td><td>128</td><td>131</td><td>143</td><td>133</td><td>⋯</td><td>106</td><td>106</td><td>106</td><td>104</td><td>98</td><td>106</td><td>104</td><td>86</td><td>110</td><td>95</td></tr>\n",
              "\t<tr><th scope=row>MaturType</th><td>  5</td><td>  6</td><td>  5</td><td>  3</td><td>  5</td><td>  3</td><td>  5</td><td>  5</td><td>  6</td><td>  5</td><td>⋯</td><td>  3</td><td>  3</td><td>  3</td><td>  3</td><td> 2</td><td>  3</td><td>  3</td><td> 1</td><td>  3</td><td> 2</td></tr>\n",
              "</tbody>\n",
              "</table>\n"
            ]
          },
          "metadata": {}
        }
      ]
    },
    {
      "cell_type": "code",
      "source": [
        "head(data1, 5)"
      ],
      "metadata": {
        "colab": {
          "base_uri": "https://localhost:8080/",
          "height": 252
        },
        "id": "elNdP0aZMCU2",
        "outputId": "060506cf-951d-41b9-e0a7-95476427a22f"
      },
      "execution_count": 6,
      "outputs": [
        {
          "output_type": "display_data",
          "data": {
            "text/plain": [
              "    Height Protein Oil  Productivity\n",
              "V_0  92.5  39.8    16.5  96         \n",
              "V_1 155.0    NA      NA  NA         \n",
              "V_2 112.5  42.1    18.3  84         \n",
              "V_3  77.5  43.5    17.9 109         \n",
              "V_4  82.5  40.8    19.4 113         "
            ],
            "text/latex": "A data.frame: 5 × 4\n\\begin{tabular}{r|llll}\n  & Height & Protein & Oil & Productivity\\\\\n  & <dbl> & <dbl> & <dbl> & <int>\\\\\n\\hline\n\tV\\_0 &  92.5 & 39.8 & 16.5 &  96\\\\\n\tV\\_1 & 155.0 &   NA &   NA &  NA\\\\\n\tV\\_2 & 112.5 & 42.1 & 18.3 &  84\\\\\n\tV\\_3 &  77.5 & 43.5 & 17.9 & 109\\\\\n\tV\\_4 &  82.5 & 40.8 & 19.4 & 113\\\\\n\\end{tabular}\n",
            "text/markdown": "\nA data.frame: 5 × 4\n\n| <!--/--> | Height &lt;dbl&gt; | Protein &lt;dbl&gt; | Oil &lt;dbl&gt; | Productivity &lt;int&gt; |\n|---|---|---|---|---|\n| V_0 |  92.5 | 39.8 | 16.5 |  96 |\n| V_1 | 155.0 |   NA |   NA |  NA |\n| V_2 | 112.5 | 42.1 | 18.3 |  84 |\n| V_3 |  77.5 | 43.5 | 17.9 | 109 |\n| V_4 |  82.5 | 40.8 | 19.4 | 113 |\n\n",
            "text/html": [
              "<table class=\"dataframe\">\n",
              "<caption>A data.frame: 5 × 4</caption>\n",
              "<thead>\n",
              "\t<tr><th></th><th scope=col>Height</th><th scope=col>Protein</th><th scope=col>Oil</th><th scope=col>Productivity</th></tr>\n",
              "\t<tr><th></th><th scope=col>&lt;dbl&gt;</th><th scope=col>&lt;dbl&gt;</th><th scope=col>&lt;dbl&gt;</th><th scope=col>&lt;int&gt;</th></tr>\n",
              "</thead>\n",
              "<tbody>\n",
              "\t<tr><th scope=row>V_0</th><td> 92.5</td><td>39.8</td><td>16.5</td><td> 96</td></tr>\n",
              "\t<tr><th scope=row>V_1</th><td>155.0</td><td>  NA</td><td>  NA</td><td> NA</td></tr>\n",
              "\t<tr><th scope=row>V_2</th><td>112.5</td><td>42.1</td><td>18.3</td><td> 84</td></tr>\n",
              "\t<tr><th scope=row>V_3</th><td> 77.5</td><td>43.5</td><td>17.9</td><td>109</td></tr>\n",
              "\t<tr><th scope=row>V_4</th><td> 82.5</td><td>40.8</td><td>19.4</td><td>113</td></tr>\n",
              "</tbody>\n",
              "</table>\n"
            ]
          },
          "metadata": {}
        }
      ]
    },
    {
      "cell_type": "markdown",
      "source": [
        "Транспонируем data2"
      ],
      "metadata": {
        "id": "SMh3u4ZmLjNq"
      }
    },
    {
      "cell_type": "code",
      "source": [
        "transpose1 <- function(data) {\n",
        "  t_data <- transpose(data)\n",
        "  colnames(t_data) <- rownames(data)\n",
        "  rownames(t_data) <- colnames(data)\n",
        "  return(t_data)\n",
        "} \n",
        "\n",
        "t_data2 <- transpose1(data2)\n",
        "\n",
        "\n",
        "head(t_data2)"
      ],
      "metadata": {
        "id": "cjl_Fcu5Ljoq",
        "colab": {
          "base_uri": "https://localhost:8080/",
          "height": 283
        },
        "outputId": "a7faa778-df4b-49af-8007-cab7a7b27c64"
      },
      "execution_count": 9,
      "outputs": [
        {
          "output_type": "display_data",
          "data": {
            "text/plain": [
              "    GrowthType Polegaemost GenmBMatur MaturType\n",
              "V_0 0          1           123        5        \n",
              "V_1 0          1           143        6        \n",
              "V_2 0          0           137        5        \n",
              "V_3 2          0           108        3        \n",
              "V_4 2          0           132        5        \n",
              "V_5 0          0           100        3        "
            ],
            "text/latex": "A data.frame: 6 × 4\n\\begin{tabular}{r|llll}\n  & GrowthType & Polegaemost & GenmBMatur & MaturType\\\\\n  & <int> & <int> & <int> & <int>\\\\\n\\hline\n\tV\\_0 & 0 & 1 & 123 & 5\\\\\n\tV\\_1 & 0 & 1 & 143 & 6\\\\\n\tV\\_2 & 0 & 0 & 137 & 5\\\\\n\tV\\_3 & 2 & 0 & 108 & 3\\\\\n\tV\\_4 & 2 & 0 & 132 & 5\\\\\n\tV\\_5 & 0 & 0 & 100 & 3\\\\\n\\end{tabular}\n",
            "text/markdown": "\nA data.frame: 6 × 4\n\n| <!--/--> | GrowthType &lt;int&gt; | Polegaemost &lt;int&gt; | GenmBMatur &lt;int&gt; | MaturType &lt;int&gt; |\n|---|---|---|---|---|\n| V_0 | 0 | 1 | 123 | 5 |\n| V_1 | 0 | 1 | 143 | 6 |\n| V_2 | 0 | 0 | 137 | 5 |\n| V_3 | 2 | 0 | 108 | 3 |\n| V_4 | 2 | 0 | 132 | 5 |\n| V_5 | 0 | 0 | 100 | 3 |\n\n",
            "text/html": [
              "<table class=\"dataframe\">\n",
              "<caption>A data.frame: 6 × 4</caption>\n",
              "<thead>\n",
              "\t<tr><th></th><th scope=col>GrowthType</th><th scope=col>Polegaemost</th><th scope=col>GenmBMatur</th><th scope=col>MaturType</th></tr>\n",
              "\t<tr><th></th><th scope=col>&lt;int&gt;</th><th scope=col>&lt;int&gt;</th><th scope=col>&lt;int&gt;</th><th scope=col>&lt;int&gt;</th></tr>\n",
              "</thead>\n",
              "<tbody>\n",
              "\t<tr><th scope=row>V_0</th><td>0</td><td>1</td><td>123</td><td>5</td></tr>\n",
              "\t<tr><th scope=row>V_1</th><td>0</td><td>1</td><td>143</td><td>6</td></tr>\n",
              "\t<tr><th scope=row>V_2</th><td>0</td><td>0</td><td>137</td><td>5</td></tr>\n",
              "\t<tr><th scope=row>V_3</th><td>2</td><td>0</td><td>108</td><td>3</td></tr>\n",
              "\t<tr><th scope=row>V_4</th><td>2</td><td>0</td><td>132</td><td>5</td></tr>\n",
              "\t<tr><th scope=row>V_5</th><td>0</td><td>0</td><td>100</td><td>3</td></tr>\n",
              "</tbody>\n",
              "</table>\n"
            ]
          },
          "metadata": {}
        }
      ]
    },
    {
      "cell_type": "markdown",
      "source": [
        "Объединим и отфильтруем данные "
      ],
      "metadata": {
        "id": "AabENaIwbwap"
      }
    },
    {
      "cell_type": "code",
      "source": [
        "merged <- merge(t_data2, data1, by = 0, all= TRUE) %>% filter_all(all_vars(!is.na(.))) \n",
        "head(merged, 10)"
      ],
      "metadata": {
        "colab": {
          "base_uri": "https://localhost:8080/",
          "height": 407
        },
        "id": "FkmdCm-Abwt8",
        "outputId": "b0b91bee-ac1d-4245-f16f-7514a46c3321"
      },
      "execution_count": 46,
      "outputs": [
        {
          "output_type": "display_data",
          "data": {
            "text/plain": [
              "   Row.names GrowthType Polegaemost GenmBMatur MaturType Height Protein Oil \n",
              "1  V_0       0          1           123        5          92.5  39.8    16.5\n",
              "2  V_100     1          0            95        2          62.5  41.8    20.9\n",
              "3  V_11      1          0            92        2          42.5  40.7    15.1\n",
              "4  V_12      2          2           133        5          97.5  43.1    18.4\n",
              "5  V_13      0          0           118        4          92.5  42.6    20.2\n",
              "6  V_14      0          2           113        4          82.5  42.4    19.5\n",
              "7  V_17      2          0           131        5         107.5  42.7    16.7\n",
              "8  V_19      1          0            95        2          57.5  39.8    18.3\n",
              "9  V_2       0          0           137        5         112.5  42.1    18.3\n",
              "10 V_20      2          0           102        3          52.5  41.1    21.3\n",
              "   Productivity\n",
              "1   96         \n",
              "2  153         \n",
              "3   36         \n",
              "4   49         \n",
              "5  113         \n",
              "6  124         \n",
              "7   46         \n",
              "8  129         \n",
              "9   84         \n",
              "10 143         "
            ],
            "text/latex": "A data.frame: 10 × 9\n\\begin{tabular}{r|lllllllll}\n  & Row.names & GrowthType & Polegaemost & GenmBMatur & MaturType & Height & Protein & Oil & Productivity\\\\\n  & <I<chr>> & <int> & <int> & <int> & <int> & <dbl> & <dbl> & <dbl> & <int>\\\\\n\\hline\n\t1 & V\\_0   & 0 & 1 & 123 & 5 &  92.5 & 39.8 & 16.5 &  96\\\\\n\t2 & V\\_100 & 1 & 0 &  95 & 2 &  62.5 & 41.8 & 20.9 & 153\\\\\n\t3 & V\\_11  & 1 & 0 &  92 & 2 &  42.5 & 40.7 & 15.1 &  36\\\\\n\t4 & V\\_12  & 2 & 2 & 133 & 5 &  97.5 & 43.1 & 18.4 &  49\\\\\n\t5 & V\\_13  & 0 & 0 & 118 & 4 &  92.5 & 42.6 & 20.2 & 113\\\\\n\t6 & V\\_14  & 0 & 2 & 113 & 4 &  82.5 & 42.4 & 19.5 & 124\\\\\n\t7 & V\\_17  & 2 & 0 & 131 & 5 & 107.5 & 42.7 & 16.7 &  46\\\\\n\t8 & V\\_19  & 1 & 0 &  95 & 2 &  57.5 & 39.8 & 18.3 & 129\\\\\n\t9 & V\\_2   & 0 & 0 & 137 & 5 & 112.5 & 42.1 & 18.3 &  84\\\\\n\t10 & V\\_20  & 2 & 0 & 102 & 3 &  52.5 & 41.1 & 21.3 & 143\\\\\n\\end{tabular}\n",
            "text/markdown": "\nA data.frame: 10 × 9\n\n| <!--/--> | Row.names &lt;I&lt;chr&gt;&gt; | GrowthType &lt;int&gt; | Polegaemost &lt;int&gt; | GenmBMatur &lt;int&gt; | MaturType &lt;int&gt; | Height &lt;dbl&gt; | Protein &lt;dbl&gt; | Oil &lt;dbl&gt; | Productivity &lt;int&gt; |\n|---|---|---|---|---|---|---|---|---|---|\n| 1 | V_0   | 0 | 1 | 123 | 5 |  92.5 | 39.8 | 16.5 |  96 |\n| 2 | V_100 | 1 | 0 |  95 | 2 |  62.5 | 41.8 | 20.9 | 153 |\n| 3 | V_11  | 1 | 0 |  92 | 2 |  42.5 | 40.7 | 15.1 |  36 |\n| 4 | V_12  | 2 | 2 | 133 | 5 |  97.5 | 43.1 | 18.4 |  49 |\n| 5 | V_13  | 0 | 0 | 118 | 4 |  92.5 | 42.6 | 20.2 | 113 |\n| 6 | V_14  | 0 | 2 | 113 | 4 |  82.5 | 42.4 | 19.5 | 124 |\n| 7 | V_17  | 2 | 0 | 131 | 5 | 107.5 | 42.7 | 16.7 |  46 |\n| 8 | V_19  | 1 | 0 |  95 | 2 |  57.5 | 39.8 | 18.3 | 129 |\n| 9 | V_2   | 0 | 0 | 137 | 5 | 112.5 | 42.1 | 18.3 |  84 |\n| 10 | V_20  | 2 | 0 | 102 | 3 |  52.5 | 41.1 | 21.3 | 143 |\n\n",
            "text/html": [
              "<table class=\"dataframe\">\n",
              "<caption>A data.frame: 10 × 9</caption>\n",
              "<thead>\n",
              "\t<tr><th></th><th scope=col>Row.names</th><th scope=col>GrowthType</th><th scope=col>Polegaemost</th><th scope=col>GenmBMatur</th><th scope=col>MaturType</th><th scope=col>Height</th><th scope=col>Protein</th><th scope=col>Oil</th><th scope=col>Productivity</th></tr>\n",
              "\t<tr><th></th><th scope=col>&lt;I&lt;chr&gt;&gt;</th><th scope=col>&lt;int&gt;</th><th scope=col>&lt;int&gt;</th><th scope=col>&lt;int&gt;</th><th scope=col>&lt;int&gt;</th><th scope=col>&lt;dbl&gt;</th><th scope=col>&lt;dbl&gt;</th><th scope=col>&lt;dbl&gt;</th><th scope=col>&lt;int&gt;</th></tr>\n",
              "</thead>\n",
              "<tbody>\n",
              "\t<tr><th scope=row>1</th><td>V_0  </td><td>0</td><td>1</td><td>123</td><td>5</td><td> 92.5</td><td>39.8</td><td>16.5</td><td> 96</td></tr>\n",
              "\t<tr><th scope=row>2</th><td>V_100</td><td>1</td><td>0</td><td> 95</td><td>2</td><td> 62.5</td><td>41.8</td><td>20.9</td><td>153</td></tr>\n",
              "\t<tr><th scope=row>3</th><td>V_11 </td><td>1</td><td>0</td><td> 92</td><td>2</td><td> 42.5</td><td>40.7</td><td>15.1</td><td> 36</td></tr>\n",
              "\t<tr><th scope=row>4</th><td>V_12 </td><td>2</td><td>2</td><td>133</td><td>5</td><td> 97.5</td><td>43.1</td><td>18.4</td><td> 49</td></tr>\n",
              "\t<tr><th scope=row>5</th><td>V_13 </td><td>0</td><td>0</td><td>118</td><td>4</td><td> 92.5</td><td>42.6</td><td>20.2</td><td>113</td></tr>\n",
              "\t<tr><th scope=row>6</th><td>V_14 </td><td>0</td><td>2</td><td>113</td><td>4</td><td> 82.5</td><td>42.4</td><td>19.5</td><td>124</td></tr>\n",
              "\t<tr><th scope=row>7</th><td>V_17 </td><td>2</td><td>0</td><td>131</td><td>5</td><td>107.5</td><td>42.7</td><td>16.7</td><td> 46</td></tr>\n",
              "\t<tr><th scope=row>8</th><td>V_19 </td><td>1</td><td>0</td><td> 95</td><td>2</td><td> 57.5</td><td>39.8</td><td>18.3</td><td>129</td></tr>\n",
              "\t<tr><th scope=row>9</th><td>V_2  </td><td>0</td><td>0</td><td>137</td><td>5</td><td>112.5</td><td>42.1</td><td>18.3</td><td> 84</td></tr>\n",
              "\t<tr><th scope=row>10</th><td>V_20 </td><td>2</td><td>0</td><td>102</td><td>3</td><td> 52.5</td><td>41.1</td><td>21.3</td><td>143</td></tr>\n",
              "</tbody>\n",
              "</table>\n"
            ]
          },
          "metadata": {}
        }
      ]
    },
    {
      "cell_type": "markdown",
      "source": [
        "Выберем две качественные и количественные переменные "
      ],
      "metadata": {
        "id": "OpMO2pl-i82m"
      }
    },
    {
      "cell_type": "code",
      "source": [
        "selected <- merged[,c(\"GrowthType\", \"MaturType\", \"Height\")]\n",
        "selected[, \"GrowthType\"] <- factor(selected[, \"GrowthType\"])\n",
        "selected[, \"MaturType\"] <- factor(selected[, \"MaturType\"])\n",
        "head(selected, 10)"
      ],
      "metadata": {
        "colab": {
          "base_uri": "https://localhost:8080/",
          "height": 407
        },
        "id": "JfFSegIMi9G6",
        "outputId": "fabfabf7-032f-446d-de39-7ff5ed99a956"
      },
      "execution_count": 62,
      "outputs": [
        {
          "output_type": "display_data",
          "data": {
            "text/plain": [
              "   GrowthType MaturType Height\n",
              "1  0          5          92.5 \n",
              "2  1          2          62.5 \n",
              "3  1          2          42.5 \n",
              "4  2          5          97.5 \n",
              "5  0          4          92.5 \n",
              "6  0          4          82.5 \n",
              "7  2          5         107.5 \n",
              "8  1          2          57.5 \n",
              "9  0          5         112.5 \n",
              "10 2          3          52.5 "
            ],
            "text/latex": "A data.frame: 10 × 3\n\\begin{tabular}{r|lll}\n  & GrowthType & MaturType & Height\\\\\n  & <fct> & <fct> & <dbl>\\\\\n\\hline\n\t1 & 0 & 5 &  92.5\\\\\n\t2 & 1 & 2 &  62.5\\\\\n\t3 & 1 & 2 &  42.5\\\\\n\t4 & 2 & 5 &  97.5\\\\\n\t5 & 0 & 4 &  92.5\\\\\n\t6 & 0 & 4 &  82.5\\\\\n\t7 & 2 & 5 & 107.5\\\\\n\t8 & 1 & 2 &  57.5\\\\\n\t9 & 0 & 5 & 112.5\\\\\n\t10 & 2 & 3 &  52.5\\\\\n\\end{tabular}\n",
            "text/markdown": "\nA data.frame: 10 × 3\n\n| <!--/--> | GrowthType &lt;fct&gt; | MaturType &lt;fct&gt; | Height &lt;dbl&gt; |\n|---|---|---|---|\n| 1 | 0 | 5 |  92.5 |\n| 2 | 1 | 2 |  62.5 |\n| 3 | 1 | 2 |  42.5 |\n| 4 | 2 | 5 |  97.5 |\n| 5 | 0 | 4 |  92.5 |\n| 6 | 0 | 4 |  82.5 |\n| 7 | 2 | 5 | 107.5 |\n| 8 | 1 | 2 |  57.5 |\n| 9 | 0 | 5 | 112.5 |\n| 10 | 2 | 3 |  52.5 |\n\n",
            "text/html": [
              "<table class=\"dataframe\">\n",
              "<caption>A data.frame: 10 × 3</caption>\n",
              "<thead>\n",
              "\t<tr><th></th><th scope=col>GrowthType</th><th scope=col>MaturType</th><th scope=col>Height</th></tr>\n",
              "\t<tr><th></th><th scope=col>&lt;fct&gt;</th><th scope=col>&lt;fct&gt;</th><th scope=col>&lt;dbl&gt;</th></tr>\n",
              "</thead>\n",
              "<tbody>\n",
              "\t<tr><th scope=row>1</th><td>0</td><td>5</td><td> 92.5</td></tr>\n",
              "\t<tr><th scope=row>2</th><td>1</td><td>2</td><td> 62.5</td></tr>\n",
              "\t<tr><th scope=row>3</th><td>1</td><td>2</td><td> 42.5</td></tr>\n",
              "\t<tr><th scope=row>4</th><td>2</td><td>5</td><td> 97.5</td></tr>\n",
              "\t<tr><th scope=row>5</th><td>0</td><td>4</td><td> 92.5</td></tr>\n",
              "\t<tr><th scope=row>6</th><td>0</td><td>4</td><td> 82.5</td></tr>\n",
              "\t<tr><th scope=row>7</th><td>2</td><td>5</td><td>107.5</td></tr>\n",
              "\t<tr><th scope=row>8</th><td>1</td><td>2</td><td> 57.5</td></tr>\n",
              "\t<tr><th scope=row>9</th><td>0</td><td>5</td><td>112.5</td></tr>\n",
              "\t<tr><th scope=row>10</th><td>2</td><td>3</td><td> 52.5</td></tr>\n",
              "</tbody>\n",
              "</table>\n"
            ]
          },
          "metadata": {}
        }
      ]
    },
    {
      "cell_type": "markdown",
      "source": [
        "Нарисовать график, на котором отображены плотности распределений и гистограммы для получившихся групп, обозначить разные группы разными цветами."
      ],
      "metadata": {
        "id": "SJ5UfC_Tl1_o"
      }
    },
    {
      "cell_type": "code",
      "source": [
        "ggplot(selected, aes(x = Height, fill = GrowthType, color = GrowthType)) +\n",
        "  geom_histogram(position = \"identity\", alpha = 0.4, binwidth=5, aes(y = ..density..)) +\n",
        "  geom_density(alpha=0.4)"
      ],
      "metadata": {
        "colab": {
          "base_uri": "https://localhost:8080/",
          "height": 437
        },
        "id": "88GG8ee4rxub",
        "outputId": "43217b1d-5dc0-49b8-bd0f-351192f731a7"
      },
      "execution_count": 103,
      "outputs": [
        {
          "output_type": "display_data",
          "data": {
            "image/png": "[encoded data removed]",
            "text/plain": [
              "plot without title"
            ]
          },
          "metadata": {
            "image/png": {
              "width": 420,
              "height": 420
            }
          }
        }
      ]
    },
    {
      "cell_type": "code",
      "source": [
        ""
      ],
      "metadata": {
        "id": "4cW8mkqEbxji"
      },
      "execution_count": null,
      "outputs": []
    }
  ]
}